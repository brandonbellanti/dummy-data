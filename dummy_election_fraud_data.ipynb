{
 "cells": [
  {
   "cell_type": "markdown",
   "metadata": {},
   "source": [
    "# Generating Dummy Data that Appears Real"
   ]
  },
  {
   "cell_type": "markdown",
   "metadata": {},
   "source": [
    "Created by Brandon Bellanti, brandonbellanti[at]gmail.com. Last updated February 6, 2021."
   ]
  },
  {
   "cell_type": "markdown",
   "metadata": {},
   "source": [
    "<br><br>"
   ]
  },
  {
   "cell_type": "markdown",
   "metadata": {},
   "source": [
    "## Introduction\n",
    "On Friday, February 5th, 2021, MyPillow CEO Mike Lindell released a documentary titled _Absolute Proof_ with claims about foreign interference in the 2020 United States General Election. The video restates earlier claims made by Lindell and others, but also introduces a new claim based on \"terabytes\" of data purportedly collected by \"cybersecurity experts\" in the days surrounding the election on November 3rd, 2020. Lindell and one of the contributors, Mary Fanning, point to this new data as \"100% proof\" of election fraud. There are no details given as to the identity of these \"experts\" or the source from which or methods by which this data was collected.\n",
    "\n",
    "The problem with basing conclusions about election fraud on this \"evidence\" is that this sort of data is incredibly easy to fake. The code in this notebook demonstrates how. The code and related explanations are written to (hopefully!) be understood by anyone, you don't necessarily need to know the specific coding techniques to see what is happening.\n",
    "\n",
    "**To be clear, I am not claiming the data shown in _Absolute Proof_ was fake.** That claim would be as conspiratorial as the claims that the documentary itself makes about election fraud. My point in this excerise is that without any explaination of the data's source or method of collection, the data alone cannot be trusted. Not that their data is *fake*, but that their data is *not credible*."
   ]
  },
  {
   "cell_type": "markdown",
   "metadata": {},
   "source": [
    "<br><br>"
   ]
  },
  {
   "cell_type": "markdown",
   "metadata": {},
   "source": [
    "## Getting started\n",
    "First things first. The code included in this notebook is Python 3. To start, I import some functions from already existing Python libraries. This simply means I don't have to write all of my code from scratch. I'll use already existing functions for picking random numbers and items from lists and for reading and writing CSV files.\n",
    "\n",
    "On a related note, for anyone familiar with Python or programming in general, this code is optimized for readability, not concision or speed. My goal is to show people unfamiliar with code how easy it is to generate data that looks real but is actually completely made up."
   ]
  },
  {
   "cell_type": "markdown",
   "metadata": {},
   "source": [
    "### Python libraries"
   ]
  },
  {
   "cell_type": "code",
   "execution_count": 36,
   "metadata": {},
   "outputs": [],
   "source": [
    "from random import randrange, randint, choice, choices   # functions to make random selections\n",
    "import csv                                               # functions to read and write CSV files\n",
    "import pandas as pd                                      # functions to display and aggregate data"
   ]
  },
  {
   "cell_type": "markdown",
   "metadata": {},
   "source": [
    "<br><br>"
   ]
  },
  {
   "cell_type": "markdown",
   "metadata": {},
   "source": [
    "## Functions\n",
    "Now to the good stuff. The way you generate a lot of data very quickly is to write functions, or small pieces of code you can reuse over and over again. I wrote functions that generate fake timestamps, IP addresses, computer IDs, and other values. Each function is explained in more detail and demonstrated below."
   ]
  },
  {
   "cell_type": "markdown",
   "metadata": {},
   "source": [
    "---\n",
    "### Timestamps\n",
    "The timestamp format in _Absolute Proof_ is `mm/dd/yyyy HH:MM:SS`. To generate a fake timestamp, I need to generate each component part. The month and year are easy: 11 and 2020 respectively. For each of the other values, I just need to generate a random number based on what the range of numbers would be; for example, the hour must be from 0 to 24, since the data in the video was based on 24-hour time. For the day, I will start with the 1st of the month based on the commentary in the video and go until the 5th, but this end date is arbitrary. Once I have all of the pieces, I can combine them into a single timestamp."
   ]
  },
  {
   "cell_type": "code",
   "execution_count": 37,
   "metadata": {},
   "outputs": [
    {
     "name": "stdout",
     "output_type": "stream",
     "text": [
      "These are dummy timestamps:\n",
      "\n",
      "11/01/2020 10:41:30\n",
      "11/02/2020 17:42:24\n",
      "11/04/2020 04:44:54\n",
      "11/05/2020 10:28:08\n",
      "\n"
     ]
    }
   ],
   "source": [
    "def generate_timestamp():\n",
    "    month = '11'                         # month value of 11 for November\n",
    "    day = str(randint(1,5)).zfill(2)     # random value for day between 1 and 5, with a leading 0 added\n",
    "    year = '2020'                        # year value of 2020\n",
    "    date = f'{month}/{day}/{year}'       # combination of month, day, and year values with slash separators\n",
    "    hour = str(randrange(24)).zfill(2)   # random value between 0 and 24, with a leading 0 added if needed\n",
    "    minute = str(randrange(60)).zfill(2) # random value between 0 and 60, with a leading 0 added if needed\n",
    "    second = str(randrange(60)).zfill(2) # random value between 0 and 60, with a leading 0 added if needed\n",
    "    time = f'{hour}:{minute}:{second}'   # combination of hour, minute, and second values with colon separators\n",
    "    timestamp = date + \" \" + time        # combination of date and time to make a timestamp\n",
    "    return timestamp\n",
    "\n",
    "# demonstrate dummy timestamps\n",
    "print(f\"\"\"These are dummy timestamps:\\n\n",
    "{generate_timestamp()}\n",
    "{generate_timestamp()}\n",
    "{generate_timestamp()}\n",
    "{generate_timestamp()}\n",
    "\"\"\")"
   ]
  },
  {
   "cell_type": "markdown",
   "metadata": {},
   "source": [
    "---\n",
    "### IP addresses\n",
    "\n",
    "IPs are internet identifiers made up of sequences of integers separated by dots; in this case, they identify the source and the target of the interference. While real IPs follow conventions for construction, I will keep this simple for the sake of generating something that looks very real without necessarily following official conventions. *(More information on IP addresses [here](https://en.wikipedia.org/wiki/IP_address).)* For my dummy data, I will use four sets of integers separated by dots: `NNN.NN.NN.NNN`. Each set of integers can have between one and three digits; or put another way, the numbers from 0-999."
   ]
  },
  {
   "cell_type": "code",
   "execution_count": 38,
   "metadata": {},
   "outputs": [
    {
     "name": "stdout",
     "output_type": "stream",
     "text": [
      "These are dummy IP adresses:\n",
      "\n",
      "547.990.959.824\n",
      "83.898.483.878\n",
      "61.376.687.705\n",
      "957.728.278.114\n",
      "\n"
     ]
    }
   ],
   "source": [
    "def generate_ip():\n",
    "    ip = f'{randrange(1000)}.{randrange(1000)}.{randrange(1000)}.{randrange(1000)}' # random values betwee 0 and 1000\n",
    "    return ip\n",
    "\n",
    "# demonstrate dummy IP addresses\n",
    "print(f\"\"\"These are dummy IP adresses:\\n\n",
    "{generate_ip()}\n",
    "{generate_ip()}\n",
    "{generate_ip()}\n",
    "{generate_ip()}\n",
    "\"\"\")"
   ]
  },
  {
   "cell_type": "markdown",
   "metadata": {},
   "source": [
    "---\n",
    "### Owner sources\n",
    "\n",
    "The owner source is the name supposedly associated with the source IP and ID addresses. This is the hardest variable out of the entire dataset to create dummy data for, mostly since it is the least predictable. The way I've chosen to create dummy owner source is to create a large list of partial strings and combine them in various ways. My dummy data will be much less varied than the data shown in _Absolute Proof_, but this is an issue of time and scale more than technique."
   ]
  },
  {
   "cell_type": "code",
   "execution_count": 39,
   "metadata": {},
   "outputs": [
    {
     "name": "stdout",
     "output_type": "stream",
     "text": [
      "These are dummy owner source names:\n",
      "\n",
      "WEB SERVER\n",
      "718 ALK-143 718 ONLINE CENTER\n",
      "CH ONLINE RSV SERVER GB JAPAN\n",
      "WLS STATIC JAPAN\n",
      "\n"
     ]
    }
   ],
   "source": [
    "# create a list of snippets to use when creating names\n",
    "snippets = ['BG','GB','RU','COMM','LTD','SUITE','200','718','POOLS','CHINA','NETWORK','NET','DATA','INFORMATION','CENTER','RCV','RSV','ALLOYS','MOSCOW','BEIJING','WUHAN','GU','E-LEARNING','ONLINE','GMBH','JAPAN','INFRASTRUCTURE','WEB','SERVER','SWITCHBOARD','COMMERCE','COMMERCIAL','SINGNET','NETLIN','CN','SBUH-187','LKL-21','ADDRESSES','STATIC','IP','HPO-SUITE','ALK-143','KJBHJD LTD','AVHJ-OU','CH','ETHN','NETW','WLS','CELLNAM','TECHNOLOGY','TECH']\n",
    "\n",
    "def generate_owner_source():\n",
    "    number_of_words = randint(2,7)                      # randomly choose word count for name\n",
    "    owner_words = choices(snippets, k=number_of_words)  # chose n-number of words from snippet list\n",
    "    owner_text = ' '.join(owner_words)                  # combine words into a single text string\n",
    "    return owner_text\n",
    "\n",
    "# demonstrate dummy owner source name\n",
    "print(f\"\"\"These are dummy owner source names:\\n\n",
    "{generate_owner_source()}\n",
    "{generate_owner_source()}\n",
    "{generate_owner_source()}\n",
    "{generate_owner_source()}\n",
    "\"\"\")"
   ]
  },
  {
   "cell_type": "markdown",
   "metadata": {},
   "source": [
    "---\n",
    "### Machine IDs\n",
    "\n",
    "Each device connected to the internet has it's own identifier called a media access control - or MAC - address; in the documentary, Lindell's interviewee claims that they are able to see exactly which devices were attacked using thes IDs. Like the IP addresses, I will not follow any specific conventions of these addresses, but I will show how easy it is to create dummy data that looks like a real ID. *(More information on MAC addresses [here](https://en.wikipedia.org/wiki/MAC_address).)* The IDs in the evidentiary data are made up of six two-digit sets of integers and lower case letters `a` through `f` (technically these are hexadecimal numbers) separated by colons: `Nw:NN:wN:ww:Nw:NN`."
   ]
  },
  {
   "cell_type": "code",
   "execution_count": 40,
   "metadata": {},
   "outputs": [
    {
     "name": "stdout",
     "output_type": "stream",
     "text": [
      "These are dummy machine IDs:\n",
      "\n",
      "df:57:83:76:33:81\n",
      "4d:5c:bb:e9:dd:a3\n",
      "5a:22:83:7a:54:b8\n",
      "76:8e:3e:f1:c9:d1\n",
      "\n"
     ]
    }
   ],
   "source": [
    "def generate_hex():\n",
    "    integers = '0123456789'                       # integers from 0-9\n",
    "    letters = 'abcdef'                            # letters from a-f\n",
    "    values = integers + letters                   # combined integers and letters \n",
    "    hexadecimal = choice(values) + choice(values) # random two-digit combination of integers and letters\n",
    "    return hexadecimal\n",
    "\n",
    "def generate_id():\n",
    "    id_string = f'{generate_hex()}:{generate_hex()}:{generate_hex()}:{generate_hex()}:{generate_hex()}:{generate_hex()}'\n",
    "    return id_string\n",
    "\n",
    "# demonstrate dummy machine IDs\n",
    "print(f\"\"\"These are dummy machine IDs:\\n\n",
    "{generate_id()}\n",
    "{generate_id()}\n",
    "{generate_id()}\n",
    "{generate_id()}\n",
    "\"\"\")"
   ]
  },
  {
   "cell_type": "markdown",
   "metadata": {},
   "source": [
    "---\n",
    "### State Target\n",
    "\n",
    "The five states shown in the documentary data are the five states most hotly contested in the 2020 Election: Michigan, Georgia, Arizona, Pennsylvania, and Nevada. To pick a value, I create a list of states and use a simple command to choose one at random."
   ]
  },
  {
   "cell_type": "code",
   "execution_count": 41,
   "metadata": {},
   "outputs": [
    {
     "name": "stdout",
     "output_type": "stream",
     "text": [
      "These are dummy states:\n",
      "\n",
      "MICHIGAN\n",
      "GEORGIA\n",
      "NEVADA\n",
      "GEORGIA\n",
      "\n"
     ]
    }
   ],
   "source": [
    "def generate_state_target():\n",
    "    states = ['MICHIGAN','GEORGIA','ARIZONA','PENNSYLVANIA','NEVADA'] # list of states in the documentary data\n",
    "    state = choice(states)                                            # choose a random value from the list of states\n",
    "    return state\n",
    "\n",
    "# demonstrate dummy states \n",
    "print(f\"\"\"These are dummy states:\\n\n",
    "{generate_state_target()}\n",
    "{generate_state_target()}\n",
    "{generate_state_target()}\n",
    "{generate_state_target()}\n",
    "\"\"\")"
   ]
  },
  {
   "cell_type": "markdown",
   "metadata": {},
   "source": [
    "---\n",
    "### Target entry point / owner\n",
    "\n",
    "The specific target points are a bit tricker than the states themselves, but the process is similar. In the data presented in _Absolute Proof_, all of the target entry point / owner values are capitalized county names, sometimes followed by the word \"ELECTION\". The first step is to create lists of counties for each state (courtesy of [Wikipedia](https://en.wikipedia.org/wiki/List_of_United_States_counties_and_county_equivalents)) and then to choose a county randomly. However, the county must match the state, so the function references a state name when picking a random county."
   ]
  },
  {
   "cell_type": "code",
   "execution_count": 42,
   "metadata": {},
   "outputs": [
    {
     "name": "stdout",
     "output_type": "stream",
     "text": [
      "These are dummy target entry points / owners:\n",
      "\n",
      "CHATTOOGA COUNTY ELECTION\n",
      "TIOGA COUNTY ELECTION\n",
      "OSCODA COUNTY\n",
      "LANDER COUNTY\n",
      "\n"
     ]
    }
   ],
   "source": [
    "county_dictionary = {\n",
    "    'MICHIGAN':['Alcona County','Alger County','Allegan County','Alpena County','Antrim County','Arenac County','Baraga County','Barry County','Bay County','Benzie County','Berrien County','Branch County','Calhoun County','Cass County','Charlevoix County','Cheboygan County','Chippewa County','Clare County','Clinton County','Crawford County','Delta County','Dickinson County','Eaton County','Emmet County','Genesee County','Gladwin County','Gogebic County','Grand Traverse County','Gratiot County','Hillsdale County','Houghton County','Huron County','Ingham County','Ionia County','Iosco County','Iron County','Isabella County','Jackson County','Kalamazoo County','Kalkaska County','Kent County','Keweenaw County','Lake County','Lapeer County','Leelanau County','Lenawee County','Livingston County','Luce County','Mackinac County','Macomb County','Manistee County','Marquette County','Mason County','Mecosta County','Menominee County','Midland County','Missaukee County','Monroe County','Montcalm County','Montmorency County','Muskegon County','Newaygo County','Oakland County','Oceana County','Ogemaw County','Ontonagon County','Osceola County','Oscoda County','Otsego County','Ottawa County','Presque Isle County','Roscommon County','Saginaw County','St. Clair County','St. Joseph County','Sanilac County','Schoolcraft County','Shiawassee County','Tuscola County','Van Buren County','Washtenaw County','Wayne County','Wexford County'],\n",
    "    'GEORGIA':['Appling County','Atkinson County','Bacon County','Baker County','Baldwin County','Banks County','Barrow County','Bartow County','Ben Hill County','Berrien County','Bibb County','Bleckley County','Brantley County','Brooks County','Bryan County','Bulloch County','Burke County','Butts County','Calhoun County','Camden County','Candler County','Carroll County','Catoosa County','Charlton County','Chatham County','Chattahoochee County','Chattooga County','Cherokee County','Clarke County','Clay County','Clayton County','Clinch County','Cobb County','Coffee County','Colquitt County','Columbia County','Cook County','Coweta County','Crawford County','Crisp County','Dade County','Dawson County','Decatur County','DeKalb County','Dodge County','Dooly County','Dougherty County','Douglas County','Early County','Echols County','Effingham County','Elbert County','Emanuel County','Evans County','Fannin County','Fayette County','Floyd County','Forsyth County','Franklin County','Fulton County','Gilmer County','Glascock County','Glynn County','Gordon County','Grady County','Greene County','Gwinnett County','Habersham County','Hall County','Hancock County','Haralson County','Harris County','Hart County','Heard County','Henry County','Houston County','Irwin County','Jackson County','Jasper County','Jeff Davis County','Jefferson County','Jenkins County','Johnson County','Jones County','Lamar County','Lanier County','Laurens County','Lee County','Liberty County','Lincoln County','Long County','Lowndes County','Lumpkin County','Macon County','Madison County','Marion County','McDuffie County','McIntosh County','Meriwether County','Miller County','Mitchell County','Monroe County','Montgomery County','Morgan County','Murray County','Muscogee County','Newton County','Oconee County','Oglethorpe County','Paulding County','Peach County','Pickens County','Pierce County','Pike County','Polk County','Pulaski County','Putnam County','Quitman County','Rabun County','Randolph County','Richmond County','Rockdale County','Schley County','Screven County','Seminole County','Spalding County','Stephens County','Stewart County','Sumter County','Talbot County','Taliaferro County','Tattnall County','Taylor County','Telfair County','Terrell County','Thomas County','Tift County','Toombs County','Towns County','Treutlen County','Troup County','Turner County','Twiggs County','Union County','Upson County','Walker County','Walton County','Ware County','Warren County','Washington County','Wayne County','Webster County','Wheeler County','White County','Whitfield County','Wilcox County','Wilkes County','Wilkinson County','Worth County'],\n",
    "    'ARIZONA':['Apache County','Cochise County','Coconino County','Gila County','Graham County','Greenlee County','La Paz County','Maricopa County','Mohave County','Navajo County','Pima County','Pinal County','Santa Cruz County','Yavapai County','Yuma County'],\n",
    "    'PENNSYLVANIA':['Adams County','Allegheny County','Armstrong County','Beaver County','Bedford County','Berks County','Blair County','Bradford County','Bucks County','Butler County','Cambria County','Cameron County','Carbon County','Centre County','Chester County','Clarion County','Clearfield County','Clinton County','Columbia County','Crawford County','Cumberland County','Dauphin County','Delaware County','Elk County','Erie County','Fayette County','Forest County','Franklin County','Fulton County','Greene County','Huntingdon County','Indiana County','Jefferson County','Juniata County','Lackawanna County','Lancaster County','Lawrence County','Lebanon County','Lehigh County','Luzerne County','Lycoming County','McKean County','Mercer County','Mifflin County','Monroe County','Montgomery County','Montour County','Northampton County','Northumberland County','Perry County','Philadelphia County','Pike County','Potter County','Schuylkill County','Snyder County','Somerset County','Sullivan County','Susquehanna County','Tioga County','Union County','Venango County','Warren County','Washington County','Wayne County','Westmoreland County','Wyoming County','York County'],\n",
    "    'NEVADA':['Churchill County','Clark County','Douglas County','Elko County','Esmeralda County','Eureka County','Humboldt County','Lander County','Lincoln County','Lyon County','Mineral County','Nye County','Pershing County','Storey County','Washoe County','White Pine County']\n",
    "}\n",
    "\n",
    "def generate_target_owner(state):\n",
    "    counties = county_dictionary[state] # get a list of counties based on the state name\n",
    "    county = choice(counties).upper()   # choose a random county from that list and capitalize the county\n",
    "    if choice([True,False]):            # choose true or false randomly\n",
    "        county += ' ELECTION'           # if random choice above was true, add the word ELECTION to the county name\n",
    "    return county\n",
    "\n",
    "# demonstrate dummy owners function (each dummy owners function also calls the dummy state function)\n",
    "print(f\"\"\"These are dummy target entry points / owners:\\n\n",
    "{generate_target_owner(generate_state_target())}\n",
    "{generate_target_owner(generate_state_target())}\n",
    "{generate_target_owner(generate_state_target())}\n",
    "{generate_target_owner(generate_state_target())}\n",
    "\"\"\")"
   ]
  },
  {
   "cell_type": "markdown",
   "metadata": {},
   "source": [
    "\n",
    "---\n",
    "### Method of intrusion\n",
    "The method of intrusion is supposedly the method that the machine at the source IP/ID accessed the machine at the target IP/ID. The possible access methods in the documentary data are by breaking through the firewall, by faking credentials, or by doing both of those simultaneously. There is also a star (\\*) value in some of the records, so that is an option here as well. Like the random state name generator fuction, this function simply chooses a random value from a list."
   ]
  },
  {
   "cell_type": "code",
   "execution_count": 43,
   "metadata": {},
   "outputs": [
    {
     "name": "stdout",
     "output_type": "stream",
     "text": [
      "These are dummy intrusion methods:\n",
      "\n",
      "BOTH\n",
      "CREDENTIALS\n",
      "BOTH\n",
      "FIREWALL\n",
      "\n"
     ]
    }
   ],
   "source": [
    "def generate_intrusion_method():\n",
    "    methods = ['FIREWALL','CREDENTIALS','BOTH','*']\n",
    "    method = choice(methods)\n",
    "    return method\n",
    "\n",
    "# demonstrate dummy intrusion methods function\n",
    "print(f\"\"\"These are dummy intrusion methods:\\n\n",
    "{generate_intrusion_method()}\n",
    "{generate_intrusion_method()}\n",
    "{generate_intrusion_method()}\n",
    "{generate_intrusion_method()}\n",
    "\"\"\")"
   ]
  },
  {
   "cell_type": "markdown",
   "metadata": {},
   "source": [
    "---\n",
    "### Success\n",
    "The criteria of success in this data would be whether a foreign actor was able to gain access to a computerized voting system and change votes. It is worth noting that in the data shown on the screen in _Absolute Proof_, there are records that show the actor was unsuccessful in gaining access, yet show that votes were changed, which is completely inconsistent. The values shown are Y, N, U, or blank: presumably for yes, no, unsure/unclear, or no data respectively. Again, generating this dummy data is a simple random choice from items in a list."
   ]
  },
  {
   "cell_type": "code",
   "execution_count": 44,
   "metadata": {},
   "outputs": [
    {
     "name": "stdout",
     "output_type": "stream",
     "text": [
      "These are dummy success values:\n",
      "\n",
      "N\n",
      "Y\n",
      " \n",
      "U\n",
      "\n"
     ]
    }
   ],
   "source": [
    "def generate_success():\n",
    "    success_values = ['Y','U','N',' ']      # list of values shown in the documentary video\n",
    "    success_value = choice(success_values)  # choose a random value from the list above\n",
    "    return success_value\n",
    "\n",
    "# demonstrate dummy success values function\n",
    "print(f\"\"\"These are dummy success values:\\n\n",
    "{generate_success()}\n",
    "{generate_success()}\n",
    "{generate_success()}\n",
    "{generate_success()}\n",
    "\"\"\")"
   ]
  },
  {
   "cell_type": "markdown",
   "metadata": {},
   "source": [
    "---\n",
    "### Log trace\n",
    "\n",
    "There isn't an explaination of what the log trace values represent. But the values seen on the screen are Y, N, and blank. Random choice strikes again."
   ]
  },
  {
   "cell_type": "code",
   "execution_count": 45,
   "metadata": {},
   "outputs": [
    {
     "name": "stdout",
     "output_type": "stream",
     "text": [
      "These are dummy log trace values:\n",
      "\n",
      " \n",
      "Y\n",
      "Y\n",
      "Y\n",
      "\n"
     ]
    }
   ],
   "source": [
    "def generate_log_trace():\n",
    "    log_values = ['Y','N',' ']\n",
    "    log_value = choice(log_values)\n",
    "    return log_value\n",
    "\n",
    "# demonstrate dummy log trace values function\n",
    "print(f\"\"\"These are dummy log trace values:\\n\n",
    "{generate_log_trace()}\n",
    "{generate_log_trace()}\n",
    "{generate_log_trace()}\n",
    "{generate_log_trace()}\n",
    "\"\"\")"
   ]
  },
  {
   "cell_type": "markdown",
   "metadata": {},
   "source": [
    "---\n",
    "### Votes changed\n",
    "The text format for the votes changed column is the upper case name of the candidate followed by a colon, then a directional value and a numeric value: `TRUMP: DOWN 12345`. As far as I can see in the data shown on the screen, every single record shows Trump down between 1000 and 50000 votes. To mirror this data in my dummy data, I will set the values to be absolute rather than random, but more convincing dummy data would include that randomized choice."
   ]
  },
  {
   "cell_type": "code",
   "execution_count": 46,
   "metadata": {},
   "outputs": [
    {
     "name": "stdout",
     "output_type": "stream",
     "text": [
      "These are dummy votes changed texts:\n",
      "\n",
      "TRUMP: DOWN 33840\n",
      "TRUMP: DOWN 21503\n",
      "TRUMP: DOWN 18494\n",
      "TRUMP: DOWN 23661\n",
      "\n"
     ]
    }
   ],
   "source": [
    "def generate_votes_changed():\n",
    "    candidate = 'TRUMP'                          # the code for a random choice is `choice(['TRUMP','BIDEN'])`\n",
    "    direction = 'DOWN'                           # the code for a random choice is `choice(['UP','DOWN'])`\n",
    "    number = randrange(1000,50000)               # random number between 1000 and 50000\n",
    "    text = f'{candidate}: {direction} {number}'  # combine the texts for candidate, direction, and number of votes\n",
    "    return text\n",
    "\n",
    "# demonstrate dummy votes changed texts function\n",
    "print(f\"\"\"These are dummy votes changed texts:\\n\n",
    "{generate_votes_changed()}\n",
    "{generate_votes_changed()}\n",
    "{generate_votes_changed()}\n",
    "{generate_votes_changed()}\n",
    "\"\"\")"
   ]
  },
  {
   "cell_type": "markdown",
   "metadata": {},
   "source": [
    "<br><br>"
   ]
  },
  {
   "cell_type": "markdown",
   "metadata": {},
   "source": [
    "\n",
    "## Dummy records"
   ]
  },
  {
   "cell_type": "markdown",
   "metadata": {},
   "source": [
    "### Generating a single dummy record\n",
    "I can combine all of the above functions into a new function to create an entire dummy record, like so."
   ]
  },
  {
   "cell_type": "code",
   "execution_count": 47,
   "metadata": {},
   "outputs": [
    {
     "name": "stdout",
     "output_type": "stream",
     "text": [
      "This is a dummy record:\n",
      "\n",
      "            DATE:\t11/03/2020 14:58:18\n",
      "       IP SOURCE:\t392.458.548.746\n",
      "    OWNER SOURCE:\tHPO-SUITE SUITE RCV ONLINE\n",
      "       ID SOURCE:\t90:e8:d4:31:01:a1\n",
      "       IP TARGET:\t42.685.468.37\n",
      "    STATE TARGET:\tPENNSYLVANIA\n",
      "    TARGET OWNER:\tTIOGA COUNTY\n",
      "       ID TARGET:\t6f:de:45:4a:02:27\n",
      "INTRUSION METHOD:\tFIREWALL\n",
      "         SUCCESS:\tY\n",
      "       LOG TRACE:\tN\n",
      "   VOTES CHANGED:\tTRUMP: DOWN 23786\n"
     ]
    }
   ],
   "source": [
    "def generate_dummy_record():\n",
    "    state = generate_state_target()\n",
    "    dummy_record = {\n",
    "        'DATE':generate_timestamp(),                      # generate a dummy timestamp\n",
    "        'IP SOURCE':generate_ip(),                        # generate a dummy source IP address\n",
    "        'OWNER SOURCE':generate_owner_source(),           # generate a dummy owner source name\n",
    "        'ID SOURCE':generate_id(),                        # generate a dummy source ID\n",
    "        'IP TARGET':generate_ip(),                        # generate a dummy target IP address\n",
    "        'STATE TARGET':state,                             # generate a dummy target state\n",
    "        'TARGET OWNER':generate_target_owner(state),      # generate a dummy target entry point / owner\n",
    "        'ID TARGET':generate_id(),                        # generate a dummy target ID\n",
    "        'INTRUSION METHOD':generate_intrusion_method(),   # generate a dummy intrusion method\n",
    "        'SUCCESS':generate_success(),                     # generate a dummy success value\n",
    "        'LOG TRACE':generate_log_trace(),                 # generate a dummy log trace value\n",
    "        'VOTES CHANGED':generate_votes_changed()          # generate a dummy votes changed text\n",
    "    }\n",
    "    return dummy_record\n",
    "\n",
    "# demonstrate generating a single dummy record function\n",
    "print(\"This is a dummy record:\\n\")\n",
    "for label, value in generate_dummy_record().items():      # get all of the information in the dummy record\n",
    "    print(f\"\"\"{label.rjust(16)}:\\t{value}\"\"\")             # print out each label and dummy value in the record"
   ]
  },
  {
   "cell_type": "markdown",
   "metadata": {},
   "source": [
    "---\n",
    "### Generating many dummy records and saving to a CSV file\n",
    "\n",
    "With the aggregate function that creates a single dummy record, I create a new CSV file, add in the same field names as the dummy record, and generate any number of dummy records, writing each to the file. I can generate 10,000 dummy records as easily as I can generate 10."
   ]
  },
  {
   "cell_type": "code",
   "execution_count": 48,
   "metadata": {},
   "outputs": [
    {
     "name": "stdout",
     "output_type": "stream",
     "text": [
      "10000 dummy records saved to election11.csv.\n"
     ]
    }
   ],
   "source": [
    "fields = ['DATE',\n",
    " 'IP SOURCE',\n",
    " 'OWNER SOURCE',\n",
    " 'ID SOURCE',\n",
    " 'IP TARGET',\n",
    " 'STATE TARGET',\n",
    " 'TARGET OWNER',\n",
    " 'ID TARGET',\n",
    " 'INTRUSION METHOD',\n",
    " 'SUCCESS',\n",
    " 'LOG TRACE',\n",
    " 'VOTES CHANGED']                                         # create a list of fieldnames based off the dummy record\n",
    "\n",
    "number_of_records = 10000                                 # set the number of dummy records to generate\n",
    "file_name = 'election11.csv'                              # make a name for a CSV file\n",
    "\n",
    "with open(file_name,'w') as csv_file:                     # open a CSV file that will hold the dummy records\n",
    "    writer = csv.DictWriter(csv_file,fieldnames=fields)   \n",
    "    writer.writeheader()                                  # write the fieldnames to the file\n",
    "    for i in range(number_of_records):                    # generate the number of dummy records given above\n",
    "        writer.writerow(generate_dummy_record())          # write each dummy record to the CSV file\n",
    "\n",
    "print(f\"{number_of_records} dummy records saved to {file_name}.\")"
   ]
  },
  {
   "cell_type": "markdown",
   "metadata": {},
   "source": [
    "---\n",
    "### Reading a CSV file of dummy records\n",
    "\n",
    "Now that I have a CSV file full of dummy records, I can read it back and see what it looks like. Unsurprisingly, it looks very similar to the data shown in _Absolute Proof_."
   ]
  },
  {
   "cell_type": "code",
   "execution_count": 49,
   "metadata": {},
   "outputs": [
    {
     "data": {
      "text/html": [
       "<div>\n",
       "<style scoped>\n",
       "    .dataframe tbody tr th:only-of-type {\n",
       "        vertical-align: middle;\n",
       "    }\n",
       "\n",
       "    .dataframe tbody tr th {\n",
       "        vertical-align: top;\n",
       "    }\n",
       "\n",
       "    .dataframe thead th {\n",
       "        text-align: right;\n",
       "    }\n",
       "</style>\n",
       "<table border=\"1\" class=\"dataframe\">\n",
       "  <thead>\n",
       "    <tr style=\"text-align: right;\">\n",
       "      <th></th>\n",
       "      <th>DATE</th>\n",
       "      <th>IP SOURCE</th>\n",
       "      <th>OWNER SOURCE</th>\n",
       "      <th>ID SOURCE</th>\n",
       "      <th>IP TARGET</th>\n",
       "      <th>STATE TARGET</th>\n",
       "      <th>TARGET OWNER</th>\n",
       "      <th>ID TARGET</th>\n",
       "      <th>INTRUSION METHOD</th>\n",
       "      <th>SUCCESS</th>\n",
       "      <th>LOG TRACE</th>\n",
       "      <th>VOTES CHANGED</th>\n",
       "    </tr>\n",
       "  </thead>\n",
       "  <tbody>\n",
       "    <tr>\n",
       "      <th>0</th>\n",
       "      <td>11/02/2020 17:02:02</td>\n",
       "      <td>229.494.395.824</td>\n",
       "      <td>NET COMM RSV 718 CH SBUH-187 NETLIN</td>\n",
       "      <td>5e:d3:77:87:d5:c4</td>\n",
       "      <td>47.693.301.279</td>\n",
       "      <td>PENNSYLVANIA</td>\n",
       "      <td>LEHIGH COUNTY</td>\n",
       "      <td>e0:51:89:e3:34:9a</td>\n",
       "      <td>*</td>\n",
       "      <td></td>\n",
       "      <td>N</td>\n",
       "      <td>TRUMP: DOWN 1397</td>\n",
       "    </tr>\n",
       "    <tr>\n",
       "      <th>1</th>\n",
       "      <td>11/01/2020 16:05:42</td>\n",
       "      <td>708.418.967.869</td>\n",
       "      <td>AVHJ-OU TECH WUHAN</td>\n",
       "      <td>7e:1d:39:6a:a9:7e</td>\n",
       "      <td>245.103.708.16</td>\n",
       "      <td>NEVADA</td>\n",
       "      <td>LYON COUNTY ELECTION</td>\n",
       "      <td>ce:23:98:ba:27:6c</td>\n",
       "      <td>CREDENTIALS</td>\n",
       "      <td></td>\n",
       "      <td></td>\n",
       "      <td>TRUMP: DOWN 4458</td>\n",
       "    </tr>\n",
       "    <tr>\n",
       "      <th>2</th>\n",
       "      <td>11/01/2020 19:51:52</td>\n",
       "      <td>943.322.994.505</td>\n",
       "      <td>TECH RSV</td>\n",
       "      <td>16:75:bf:48:76:88</td>\n",
       "      <td>359.997.897.114</td>\n",
       "      <td>PENNSYLVANIA</td>\n",
       "      <td>WAYNE COUNTY</td>\n",
       "      <td>01:25:48:45:bd:17</td>\n",
       "      <td>FIREWALL</td>\n",
       "      <td></td>\n",
       "      <td>N</td>\n",
       "      <td>TRUMP: DOWN 27691</td>\n",
       "    </tr>\n",
       "    <tr>\n",
       "      <th>3</th>\n",
       "      <td>11/02/2020 03:09:50</td>\n",
       "      <td>624.525.732.188</td>\n",
       "      <td>TECHNOLOGY CN</td>\n",
       "      <td>6a:8a:63:2e:2d:e4</td>\n",
       "      <td>873.896.105.549</td>\n",
       "      <td>ARIZONA</td>\n",
       "      <td>COCHISE COUNTY</td>\n",
       "      <td>9f:c4:8c:10:09:c7</td>\n",
       "      <td>CREDENTIALS</td>\n",
       "      <td>U</td>\n",
       "      <td></td>\n",
       "      <td>TRUMP: DOWN 38284</td>\n",
       "    </tr>\n",
       "    <tr>\n",
       "      <th>4</th>\n",
       "      <td>11/02/2020 03:22:46</td>\n",
       "      <td>587.472.508.943</td>\n",
       "      <td>NETLIN KJBHJD LTD TECHNOLOGY</td>\n",
       "      <td>a8:23:5f:17:f2:ec</td>\n",
       "      <td>428.998.121.756</td>\n",
       "      <td>GEORGIA</td>\n",
       "      <td>JEFFERSON COUNTY ELECTION</td>\n",
       "      <td>88:e4:43:c7:39:46</td>\n",
       "      <td>CREDENTIALS</td>\n",
       "      <td>Y</td>\n",
       "      <td>Y</td>\n",
       "      <td>TRUMP: DOWN 21902</td>\n",
       "    </tr>\n",
       "    <tr>\n",
       "      <th>5</th>\n",
       "      <td>11/05/2020 22:54:03</td>\n",
       "      <td>815.13.733.517</td>\n",
       "      <td>SINGNET GU POOLS RSV NETWORK POOLS 718</td>\n",
       "      <td>ed:30:5c:ad:f0:71</td>\n",
       "      <td>386.666.966.238</td>\n",
       "      <td>PENNSYLVANIA</td>\n",
       "      <td>MERCER COUNTY</td>\n",
       "      <td>ff:87:10:72:11:56</td>\n",
       "      <td>*</td>\n",
       "      <td>N</td>\n",
       "      <td></td>\n",
       "      <td>TRUMP: DOWN 33948</td>\n",
       "    </tr>\n",
       "    <tr>\n",
       "      <th>6</th>\n",
       "      <td>11/03/2020 12:31:50</td>\n",
       "      <td>982.418.82.551</td>\n",
       "      <td>JAPAN CENTER ONLINE IP</td>\n",
       "      <td>32:52:21:27:f7:37</td>\n",
       "      <td>631.675.520.416</td>\n",
       "      <td>GEORGIA</td>\n",
       "      <td>LAURENS COUNTY</td>\n",
       "      <td>95:c9:e9:f4:9b:ae</td>\n",
       "      <td>FIREWALL</td>\n",
       "      <td>Y</td>\n",
       "      <td></td>\n",
       "      <td>TRUMP: DOWN 21835</td>\n",
       "    </tr>\n",
       "    <tr>\n",
       "      <th>7</th>\n",
       "      <td>11/01/2020 17:13:57</td>\n",
       "      <td>406.829.866.846</td>\n",
       "      <td>ALLOYS SINGNET KJBHJD LTD COMMERCIAL</td>\n",
       "      <td>31:40:8b:b6:9e:0b</td>\n",
       "      <td>564.258.249.515</td>\n",
       "      <td>NEVADA</td>\n",
       "      <td>LYON COUNTY</td>\n",
       "      <td>db:76:7a:aa:96:a0</td>\n",
       "      <td>FIREWALL</td>\n",
       "      <td>N</td>\n",
       "      <td>Y</td>\n",
       "      <td>TRUMP: DOWN 30269</td>\n",
       "    </tr>\n",
       "    <tr>\n",
       "      <th>8</th>\n",
       "      <td>11/03/2020 01:46:26</td>\n",
       "      <td>250.124.874.741</td>\n",
       "      <td>HPO-SUITE COMMERCIAL ADDRESSES NETLIN ONLINE</td>\n",
       "      <td>61:b5:4c:c6:ef:f3</td>\n",
       "      <td>335.371.359.72</td>\n",
       "      <td>ARIZONA</td>\n",
       "      <td>COCONINO COUNTY ELECTION</td>\n",
       "      <td>93:8f:33:ef:b2:86</td>\n",
       "      <td>FIREWALL</td>\n",
       "      <td>N</td>\n",
       "      <td></td>\n",
       "      <td>TRUMP: DOWN 26854</td>\n",
       "    </tr>\n",
       "    <tr>\n",
       "      <th>9</th>\n",
       "      <td>11/03/2020 18:17:27</td>\n",
       "      <td>877.689.279.97</td>\n",
       "      <td>RU SUITE DATA NETWORK</td>\n",
       "      <td>00:2d:fc:9d:a5:f7</td>\n",
       "      <td>569.983.111.265</td>\n",
       "      <td>PENNSYLVANIA</td>\n",
       "      <td>CLARION COUNTY</td>\n",
       "      <td>07:75:69:d1:a2:d4</td>\n",
       "      <td>CREDENTIALS</td>\n",
       "      <td>N</td>\n",
       "      <td></td>\n",
       "      <td>TRUMP: DOWN 3834</td>\n",
       "    </tr>\n",
       "    <tr>\n",
       "      <th>10</th>\n",
       "      <td>11/05/2020 15:33:55</td>\n",
       "      <td>39.512.437.755</td>\n",
       "      <td>TECHNOLOGY ETHN WUHAN WEB AVHJ-OU</td>\n",
       "      <td>8a:9b:4c:17:da:4a</td>\n",
       "      <td>203.431.923.269</td>\n",
       "      <td>GEORGIA</td>\n",
       "      <td>CAMDEN COUNTY ELECTION</td>\n",
       "      <td>b6:17:07:21:23:f2</td>\n",
       "      <td>CREDENTIALS</td>\n",
       "      <td>U</td>\n",
       "      <td>N</td>\n",
       "      <td>TRUMP: DOWN 15367</td>\n",
       "    </tr>\n",
       "    <tr>\n",
       "      <th>11</th>\n",
       "      <td>11/02/2020 13:22:12</td>\n",
       "      <td>186.120.434.287</td>\n",
       "      <td>RSV ADDRESSES COMMERCE HPO-SUITE KJBHJD LTD AL...</td>\n",
       "      <td>27:79:12:e2:b5:87</td>\n",
       "      <td>913.407.461.855</td>\n",
       "      <td>GEORGIA</td>\n",
       "      <td>SPALDING COUNTY ELECTION</td>\n",
       "      <td>97:b7:9d:8b:55:ae</td>\n",
       "      <td>CREDENTIALS</td>\n",
       "      <td>Y</td>\n",
       "      <td>N</td>\n",
       "      <td>TRUMP: DOWN 30549</td>\n",
       "    </tr>\n",
       "    <tr>\n",
       "      <th>12</th>\n",
       "      <td>11/03/2020 06:58:15</td>\n",
       "      <td>568.588.310.399</td>\n",
       "      <td>E-LEARNING ADDRESSES</td>\n",
       "      <td>56:ca:14:72:5c:f8</td>\n",
       "      <td>660.769.378.708</td>\n",
       "      <td>MICHIGAN</td>\n",
       "      <td>NEWAYGO COUNTY ELECTION</td>\n",
       "      <td>0a:1e:d0:de:66:61</td>\n",
       "      <td>*</td>\n",
       "      <td>Y</td>\n",
       "      <td>N</td>\n",
       "      <td>TRUMP: DOWN 7220</td>\n",
       "    </tr>\n",
       "    <tr>\n",
       "      <th>13</th>\n",
       "      <td>11/01/2020 08:35:07</td>\n",
       "      <td>980.758.896.349</td>\n",
       "      <td>COMMERCIAL LTD INFORMATION ALK-143 CHINA</td>\n",
       "      <td>13:b5:79:63:11:7f</td>\n",
       "      <td>894.99.335.89</td>\n",
       "      <td>MICHIGAN</td>\n",
       "      <td>BARRY COUNTY</td>\n",
       "      <td>14:e4:61:05:dd:13</td>\n",
       "      <td>BOTH</td>\n",
       "      <td></td>\n",
       "      <td></td>\n",
       "      <td>TRUMP: DOWN 8454</td>\n",
       "    </tr>\n",
       "    <tr>\n",
       "      <th>14</th>\n",
       "      <td>11/01/2020 15:15:09</td>\n",
       "      <td>277.406.874.348</td>\n",
       "      <td>INFORMATION WEB SINGNET ADDRESSES NETW</td>\n",
       "      <td>99:76:b6:f8:5e:23</td>\n",
       "      <td>782.795.250.162</td>\n",
       "      <td>GEORGIA</td>\n",
       "      <td>PUTNAM COUNTY ELECTION</td>\n",
       "      <td>88:21:f5:af:88:40</td>\n",
       "      <td>FIREWALL</td>\n",
       "      <td>Y</td>\n",
       "      <td></td>\n",
       "      <td>TRUMP: DOWN 15828</td>\n",
       "    </tr>\n",
       "    <tr>\n",
       "      <th>15</th>\n",
       "      <td>11/01/2020 07:44:43</td>\n",
       "      <td>265.546.904.924</td>\n",
       "      <td>ADDRESSES MOSCOW SWITCHBOARD SERVER DATA WLS</td>\n",
       "      <td>36:cb:40:21:05:c7</td>\n",
       "      <td>922.103.474.250</td>\n",
       "      <td>NEVADA</td>\n",
       "      <td>LYON COUNTY ELECTION</td>\n",
       "      <td>b0:a7:1b:82:79:58</td>\n",
       "      <td>*</td>\n",
       "      <td></td>\n",
       "      <td>Y</td>\n",
       "      <td>TRUMP: DOWN 45016</td>\n",
       "    </tr>\n",
       "    <tr>\n",
       "      <th>16</th>\n",
       "      <td>11/04/2020 18:26:30</td>\n",
       "      <td>563.64.936.277</td>\n",
       "      <td>INFRASTRUCTURE WUHAN RU RCV WUHAN</td>\n",
       "      <td>18:e6:86:02:4e:64</td>\n",
       "      <td>673.193.166.428</td>\n",
       "      <td>MICHIGAN</td>\n",
       "      <td>ALLEGAN COUNTY ELECTION</td>\n",
       "      <td>3b:1f:60:71:e0:0c</td>\n",
       "      <td>*</td>\n",
       "      <td></td>\n",
       "      <td></td>\n",
       "      <td>TRUMP: DOWN 47791</td>\n",
       "    </tr>\n",
       "    <tr>\n",
       "      <th>17</th>\n",
       "      <td>11/02/2020 00:56:25</td>\n",
       "      <td>500.787.148.843</td>\n",
       "      <td>INFRASTRUCTURE CN</td>\n",
       "      <td>77:73:8d:6d:c4:5f</td>\n",
       "      <td>774.653.685.639</td>\n",
       "      <td>NEVADA</td>\n",
       "      <td>WHITE PINE COUNTY</td>\n",
       "      <td>5b:d9:2d:65:47:3d</td>\n",
       "      <td>*</td>\n",
       "      <td>U</td>\n",
       "      <td>Y</td>\n",
       "      <td>TRUMP: DOWN 7131</td>\n",
       "    </tr>\n",
       "    <tr>\n",
       "      <th>18</th>\n",
       "      <td>11/02/2020 10:05:04</td>\n",
       "      <td>229.770.935.684</td>\n",
       "      <td>GB BG LKL-21 718 SBUH-187</td>\n",
       "      <td>9d:d0:76:7e:42:79</td>\n",
       "      <td>297.644.78.879</td>\n",
       "      <td>NEVADA</td>\n",
       "      <td>LANDER COUNTY ELECTION</td>\n",
       "      <td>ad:fc:48:d2:60:71</td>\n",
       "      <td>*</td>\n",
       "      <td>Y</td>\n",
       "      <td></td>\n",
       "      <td>TRUMP: DOWN 23252</td>\n",
       "    </tr>\n",
       "    <tr>\n",
       "      <th>19</th>\n",
       "      <td>11/01/2020 02:23:07</td>\n",
       "      <td>920.357.347.603</td>\n",
       "      <td>NET NETLIN ADDRESSES INFORMATION ADDRESSES CHI...</td>\n",
       "      <td>d0:c3:07:1e:24:b0</td>\n",
       "      <td>192.920.440.719</td>\n",
       "      <td>GEORGIA</td>\n",
       "      <td>STEWART COUNTY</td>\n",
       "      <td>de:97:93:cd:6e:7e</td>\n",
       "      <td>CREDENTIALS</td>\n",
       "      <td></td>\n",
       "      <td></td>\n",
       "      <td>TRUMP: DOWN 14466</td>\n",
       "    </tr>\n",
       "  </tbody>\n",
       "</table>\n",
       "</div>"
      ],
      "text/plain": [
       "                   DATE        IP SOURCE  \\\n",
       "0   11/02/2020 17:02:02  229.494.395.824   \n",
       "1   11/01/2020 16:05:42  708.418.967.869   \n",
       "2   11/01/2020 19:51:52  943.322.994.505   \n",
       "3   11/02/2020 03:09:50  624.525.732.188   \n",
       "4   11/02/2020 03:22:46  587.472.508.943   \n",
       "5   11/05/2020 22:54:03   815.13.733.517   \n",
       "6   11/03/2020 12:31:50   982.418.82.551   \n",
       "7   11/01/2020 17:13:57  406.829.866.846   \n",
       "8   11/03/2020 01:46:26  250.124.874.741   \n",
       "9   11/03/2020 18:17:27   877.689.279.97   \n",
       "10  11/05/2020 15:33:55   39.512.437.755   \n",
       "11  11/02/2020 13:22:12  186.120.434.287   \n",
       "12  11/03/2020 06:58:15  568.588.310.399   \n",
       "13  11/01/2020 08:35:07  980.758.896.349   \n",
       "14  11/01/2020 15:15:09  277.406.874.348   \n",
       "15  11/01/2020 07:44:43  265.546.904.924   \n",
       "16  11/04/2020 18:26:30   563.64.936.277   \n",
       "17  11/02/2020 00:56:25  500.787.148.843   \n",
       "18  11/02/2020 10:05:04  229.770.935.684   \n",
       "19  11/01/2020 02:23:07  920.357.347.603   \n",
       "\n",
       "                                         OWNER SOURCE          ID SOURCE  \\\n",
       "0                 NET COMM RSV 718 CH SBUH-187 NETLIN  5e:d3:77:87:d5:c4   \n",
       "1                                  AVHJ-OU TECH WUHAN  7e:1d:39:6a:a9:7e   \n",
       "2                                            TECH RSV  16:75:bf:48:76:88   \n",
       "3                                       TECHNOLOGY CN  6a:8a:63:2e:2d:e4   \n",
       "4                        NETLIN KJBHJD LTD TECHNOLOGY  a8:23:5f:17:f2:ec   \n",
       "5              SINGNET GU POOLS RSV NETWORK POOLS 718  ed:30:5c:ad:f0:71   \n",
       "6                              JAPAN CENTER ONLINE IP  32:52:21:27:f7:37   \n",
       "7                ALLOYS SINGNET KJBHJD LTD COMMERCIAL  31:40:8b:b6:9e:0b   \n",
       "8        HPO-SUITE COMMERCIAL ADDRESSES NETLIN ONLINE  61:b5:4c:c6:ef:f3   \n",
       "9                               RU SUITE DATA NETWORK  00:2d:fc:9d:a5:f7   \n",
       "10                  TECHNOLOGY ETHN WUHAN WEB AVHJ-OU  8a:9b:4c:17:da:4a   \n",
       "11  RSV ADDRESSES COMMERCE HPO-SUITE KJBHJD LTD AL...  27:79:12:e2:b5:87   \n",
       "12                               E-LEARNING ADDRESSES  56:ca:14:72:5c:f8   \n",
       "13           COMMERCIAL LTD INFORMATION ALK-143 CHINA  13:b5:79:63:11:7f   \n",
       "14             INFORMATION WEB SINGNET ADDRESSES NETW  99:76:b6:f8:5e:23   \n",
       "15       ADDRESSES MOSCOW SWITCHBOARD SERVER DATA WLS  36:cb:40:21:05:c7   \n",
       "16                  INFRASTRUCTURE WUHAN RU RCV WUHAN  18:e6:86:02:4e:64   \n",
       "17                                  INFRASTRUCTURE CN  77:73:8d:6d:c4:5f   \n",
       "18                          GB BG LKL-21 718 SBUH-187  9d:d0:76:7e:42:79   \n",
       "19  NET NETLIN ADDRESSES INFORMATION ADDRESSES CHI...  d0:c3:07:1e:24:b0   \n",
       "\n",
       "          IP TARGET  STATE TARGET               TARGET OWNER  \\\n",
       "0    47.693.301.279  PENNSYLVANIA              LEHIGH COUNTY   \n",
       "1    245.103.708.16        NEVADA       LYON COUNTY ELECTION   \n",
       "2   359.997.897.114  PENNSYLVANIA               WAYNE COUNTY   \n",
       "3   873.896.105.549       ARIZONA             COCHISE COUNTY   \n",
       "4   428.998.121.756       GEORGIA  JEFFERSON COUNTY ELECTION   \n",
       "5   386.666.966.238  PENNSYLVANIA              MERCER COUNTY   \n",
       "6   631.675.520.416       GEORGIA             LAURENS COUNTY   \n",
       "7   564.258.249.515        NEVADA                LYON COUNTY   \n",
       "8    335.371.359.72       ARIZONA   COCONINO COUNTY ELECTION   \n",
       "9   569.983.111.265  PENNSYLVANIA             CLARION COUNTY   \n",
       "10  203.431.923.269       GEORGIA     CAMDEN COUNTY ELECTION   \n",
       "11  913.407.461.855       GEORGIA   SPALDING COUNTY ELECTION   \n",
       "12  660.769.378.708      MICHIGAN    NEWAYGO COUNTY ELECTION   \n",
       "13    894.99.335.89      MICHIGAN               BARRY COUNTY   \n",
       "14  782.795.250.162       GEORGIA     PUTNAM COUNTY ELECTION   \n",
       "15  922.103.474.250        NEVADA       LYON COUNTY ELECTION   \n",
       "16  673.193.166.428      MICHIGAN    ALLEGAN COUNTY ELECTION   \n",
       "17  774.653.685.639        NEVADA          WHITE PINE COUNTY   \n",
       "18   297.644.78.879        NEVADA     LANDER COUNTY ELECTION   \n",
       "19  192.920.440.719       GEORGIA             STEWART COUNTY   \n",
       "\n",
       "            ID TARGET INTRUSION METHOD SUCCESS LOG TRACE      VOTES CHANGED  \n",
       "0   e0:51:89:e3:34:9a                *                 N   TRUMP: DOWN 1397  \n",
       "1   ce:23:98:ba:27:6c      CREDENTIALS                     TRUMP: DOWN 4458  \n",
       "2   01:25:48:45:bd:17         FIREWALL                 N  TRUMP: DOWN 27691  \n",
       "3   9f:c4:8c:10:09:c7      CREDENTIALS       U            TRUMP: DOWN 38284  \n",
       "4   88:e4:43:c7:39:46      CREDENTIALS       Y         Y  TRUMP: DOWN 21902  \n",
       "5   ff:87:10:72:11:56                *       N            TRUMP: DOWN 33948  \n",
       "6   95:c9:e9:f4:9b:ae         FIREWALL       Y            TRUMP: DOWN 21835  \n",
       "7   db:76:7a:aa:96:a0         FIREWALL       N         Y  TRUMP: DOWN 30269  \n",
       "8   93:8f:33:ef:b2:86         FIREWALL       N            TRUMP: DOWN 26854  \n",
       "9   07:75:69:d1:a2:d4      CREDENTIALS       N             TRUMP: DOWN 3834  \n",
       "10  b6:17:07:21:23:f2      CREDENTIALS       U         N  TRUMP: DOWN 15367  \n",
       "11  97:b7:9d:8b:55:ae      CREDENTIALS       Y         N  TRUMP: DOWN 30549  \n",
       "12  0a:1e:d0:de:66:61                *       Y         N   TRUMP: DOWN 7220  \n",
       "13  14:e4:61:05:dd:13             BOTH                     TRUMP: DOWN 8454  \n",
       "14  88:21:f5:af:88:40         FIREWALL       Y            TRUMP: DOWN 15828  \n",
       "15  b0:a7:1b:82:79:58                *                 Y  TRUMP: DOWN 45016  \n",
       "16  3b:1f:60:71:e0:0c                *                    TRUMP: DOWN 47791  \n",
       "17  5b:d9:2d:65:47:3d                *       U         Y   TRUMP: DOWN 7131  \n",
       "18  ad:fc:48:d2:60:71                *       Y            TRUMP: DOWN 23252  \n",
       "19  de:97:93:cd:6e:7e      CREDENTIALS                    TRUMP: DOWN 14466  "
      ]
     },
     "execution_count": 49,
     "metadata": {},
     "output_type": "execute_result"
    }
   ],
   "source": [
    "dummy_records = pd.read_csv('election11.csv',keep_default_na=False)  # read the CSV file of dummy records\n",
    "dummy_records.head(20)                                               # display the first 20 dummy records"
   ]
  },
  {
   "cell_type": "markdown",
   "metadata": {},
   "source": [
    "<br><br>"
   ]
  },
  {
   "cell_type": "markdown",
   "metadata": {},
   "source": [
    "## Conclusion\n",
    "\n",
    "Again, let me be clear that I am not claiming the data shown in _Absolute Proof_ was fake. I am, however, claiming it was not credible. Without any contextual information about the data – such as the identity and credentials of the data collectors, their methodology, what each data field represents, and what the irregularities are – it can prove nothing. As shown here in this notebook, even data that looks convincing can be pulled out of thin air. And if I can do it, anyone can..."
   ]
  }
 ],
 "metadata": {
  "kernelspec": {
   "display_name": "Python 3",
   "language": "python",
   "name": "python3"
  },
  "language_info": {
   "codemirror_mode": {
    "name": "ipython",
    "version": 3
   },
   "file_extension": ".py",
   "mimetype": "text/x-python",
   "name": "python",
   "nbconvert_exporter": "python",
   "pygments_lexer": "ipython3",
   "version": "3.6.10"
  }
 },
 "nbformat": 4,
 "nbformat_minor": 4
}
